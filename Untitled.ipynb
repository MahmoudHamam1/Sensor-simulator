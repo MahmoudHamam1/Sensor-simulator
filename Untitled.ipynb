{
 "cells": [
  {
   "cell_type": "code",
   "execution_count": 11,
   "metadata": {},
   "outputs": [],
   "source": [
    "import time\n",
    "import json\n",
    "import random"
   ]
  },
  {
   "cell_type": "code",
   "execution_count": 12,
   "metadata": {},
   "outputs": [],
   "source": [
    "with open(\"test.txt\",\"r\") as f:\n",
    "    for l in f:\n",
    "        x=json.dumps(eval(l))\n",
    "        xx=json.loads(x)\n",
    "        maxspeed=xx['speed']['max']\n",
    "        minspeed=xx['speed']['min']\n",
    "        maxwidth=xx['width']['max']\n",
    "        minwidth=xx['width']['min']"
   ]
  },
  {
   "cell_type": "code",
   "execution_count": 13,
   "metadata": {},
   "outputs": [
    {
     "data": {
      "text/plain": [
       "(500, 900, 300, 700)"
      ]
     },
     "execution_count": 13,
     "metadata": {},
     "output_type": "execute_result"
    }
   ],
   "source": [
    "minspeed,maxspeed,minwidth,maxwidth"
   ]
  },
  {
   "cell_type": "code",
   "execution_count": 15,
   "metadata": {},
   "outputs": [
    {
     "name": "stdout",
     "output_type": "stream",
     "text": [
      "{'time': '2019/3/11,10:5:47', 'speed': 883, 'width': 579}\n",
      "{'time': '2019/3/11,10:5:48', 'speed': 739, 'width': 562}\n",
      "{'time': '2019/3/11,10:5:49', 'speed': 525, 'width': 516}\n",
      "{'time': '2019/3/11,10:5:50', 'speed': 589, 'width': 637}\n",
      "{'time': '2019/3/11,10:5:51', 'speed': 676, 'width': 690}\n",
      "{'time': '2019/3/11,10:5:52', 'speed': 842, 'width': 666}\n",
      "{'time': '2019/3/11,10:5:53', 'speed': 821, 'width': 674}\n",
      "{'time': '2019/3/11,10:5:54', 'speed': 884, 'width': 540}\n",
      "{'time': '2019/3/11,10:5:55', 'speed': 662, 'width': 541}\n",
      "{'time': '2019/3/11,10:5:56', 'speed': 663, 'width': 653}\n",
      "{'time': '2019/3/11,10:5:57', 'speed': 744, 'width': 614}\n",
      "{'time': '2019/3/11,10:5:58', 'speed': 511, 'width': 553}\n"
     ]
    },
    {
     "ename": "KeyboardInterrupt",
     "evalue": "",
     "output_type": "error",
     "traceback": [
      "\u001b[1;31m---------------------------------------------------------------------------\u001b[0m",
      "\u001b[1;31mKeyboardInterrupt\u001b[0m                         Traceback (most recent call last)",
      "\u001b[1;32m<ipython-input-15-965b54b8fccd>\u001b[0m in \u001b[0;36m<module>\u001b[1;34m()\u001b[0m\n\u001b[0;32m      5\u001b[0m     \u001b[0mdata\u001b[0m\u001b[1;33m=\u001b[0m\u001b[1;33m{\u001b[0m\u001b[1;34m'time'\u001b[0m\u001b[1;33m:\u001b[0m\u001b[0mmytime\u001b[0m\u001b[1;33m,\u001b[0m\u001b[1;34m'speed'\u001b[0m\u001b[1;33m:\u001b[0m\u001b[0mspeed\u001b[0m\u001b[1;33m,\u001b[0m\u001b[1;34m'width'\u001b[0m\u001b[1;33m:\u001b[0m\u001b[0mwidth\u001b[0m\u001b[1;33m}\u001b[0m\u001b[1;33m\u001b[0m\u001b[0m\n\u001b[0;32m      6\u001b[0m     \u001b[0mprint\u001b[0m\u001b[1;33m(\u001b[0m\u001b[0mdata\u001b[0m\u001b[1;33m)\u001b[0m\u001b[1;33m\u001b[0m\u001b[0m\n\u001b[1;32m----> 7\u001b[1;33m     \u001b[0mtime\u001b[0m\u001b[1;33m.\u001b[0m\u001b[0msleep\u001b[0m\u001b[1;33m(\u001b[0m\u001b[1;36m1\u001b[0m\u001b[1;33m)\u001b[0m\u001b[1;33m\u001b[0m\u001b[0m\n\u001b[0m",
      "\u001b[1;31mKeyboardInterrupt\u001b[0m: "
     ]
    }
   ],
   "source": [
    "while True:\n",
    "    speed=int(random.uniform(maxspeed,minspeed))\n",
    "    width=int(random.uniform(maxwidth,minspeed))\n",
    "    mytime=str(time.gmtime()[0])+ '/' + str(time.gmtime()[1]) + '/' + str(time.gmtime()[2])+','+str(time.gmtime()[3])+ ':' + str(time.gmtime()[4]) + ':' + str(time.gmtime()[5])\n",
    "    data={'time':mytime,'speed':speed,'width':width}\n",
    "    print(data)\n",
    "    time.sleep(1)"
   ]
  },
  {
   "cell_type": "code",
   "execution_count": null,
   "metadata": {},
   "outputs": [],
   "source": []
  },
  {
   "cell_type": "code",
   "execution_count": null,
   "metadata": {},
   "outputs": [],
   "source": []
  }
 ],
 "metadata": {
  "kernelspec": {
   "display_name": "Python 3",
   "language": "python",
   "name": "python3"
  },
  "language_info": {
   "codemirror_mode": {
    "name": "ipython",
    "version": 3
   },
   "file_extension": ".py",
   "mimetype": "text/x-python",
   "name": "python",
   "nbconvert_exporter": "python",
   "pygments_lexer": "ipython3",
   "version": "3.6.5"
  }
 },
 "nbformat": 4,
 "nbformat_minor": 2
}
